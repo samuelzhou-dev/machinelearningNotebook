{
 "cells": [
  {
   "cell_type": "markdown",
   "metadata": {},
   "source": [
    "## 酶活性预测实战task:\n",
    "- 基于T-R-train.csv数据，建立线性回归模型，计算其在T-R-test.csv数据上的r2分数，可视化模型预测结果\n",
    "- 加入多项式特征（2次、5次），建立回归模型\n",
    "- 计算多项式回归模型对测试数据进行预测的r2分数，判断哪个模型预测更准确\n",
    "- 可视化多项式回归模型数据预测结果，判断哪个模型预测更准确"
   ]
  },
  {
   "cell_type": "code",
   "execution_count": 9,
   "metadata": {},
   "outputs": [
    {
     "data": {
      "text/html": [
       "<div>\n",
       "<style scoped>\n",
       "    .dataframe tbody tr th:only-of-type {\n",
       "        vertical-align: middle;\n",
       "    }\n",
       "\n",
       "    .dataframe tbody tr th {\n",
       "        vertical-align: top;\n",
       "    }\n",
       "\n",
       "    .dataframe thead th {\n",
       "        text-align: right;\n",
       "    }\n",
       "</style>\n",
       "<table border=\"1\" class=\"dataframe\">\n",
       "  <thead>\n",
       "    <tr style=\"text-align: right;\">\n",
       "      <th></th>\n",
       "      <th>T</th>\n",
       "      <th>rate</th>\n",
       "    </tr>\n",
       "  </thead>\n",
       "  <tbody>\n",
       "    <tr>\n",
       "      <th>0</th>\n",
       "      <td>46.53</td>\n",
       "      <td>2.49</td>\n",
       "    </tr>\n",
       "    <tr>\n",
       "      <th>1</th>\n",
       "      <td>48.14</td>\n",
       "      <td>2.56</td>\n",
       "    </tr>\n",
       "    <tr>\n",
       "      <th>2</th>\n",
       "      <td>50.15</td>\n",
       "      <td>2.63</td>\n",
       "    </tr>\n",
       "    <tr>\n",
       "      <th>3</th>\n",
       "      <td>51.36</td>\n",
       "      <td>2.69</td>\n",
       "    </tr>\n",
       "    <tr>\n",
       "      <th>4</th>\n",
       "      <td>52.57</td>\n",
       "      <td>2.74</td>\n",
       "    </tr>\n",
       "    <tr>\n",
       "      <th>5</th>\n",
       "      <td>54.18</td>\n",
       "      <td>2.80</td>\n",
       "    </tr>\n",
       "    <tr>\n",
       "      <th>6</th>\n",
       "      <td>56.19</td>\n",
       "      <td>2.88</td>\n",
       "    </tr>\n",
       "    <tr>\n",
       "      <th>7</th>\n",
       "      <td>58.58</td>\n",
       "      <td>2.92</td>\n",
       "    </tr>\n",
       "    <tr>\n",
       "      <th>8</th>\n",
       "      <td>61.37</td>\n",
       "      <td>2.96</td>\n",
       "    </tr>\n",
       "    <tr>\n",
       "      <th>9</th>\n",
       "      <td>63.34</td>\n",
       "      <td>2.95</td>\n",
       "    </tr>\n",
       "    <tr>\n",
       "      <th>10</th>\n",
       "      <td>65.31</td>\n",
       "      <td>2.91</td>\n",
       "    </tr>\n",
       "    <tr>\n",
       "      <th>11</th>\n",
       "      <td>66.47</td>\n",
       "      <td>2.85</td>\n",
       "    </tr>\n",
       "    <tr>\n",
       "      <th>12</th>\n",
       "      <td>68.03</td>\n",
       "      <td>2.78</td>\n",
       "    </tr>\n",
       "    <tr>\n",
       "      <th>13</th>\n",
       "      <td>69.97</td>\n",
       "      <td>2.69</td>\n",
       "    </tr>\n",
       "    <tr>\n",
       "      <th>14</th>\n",
       "      <td>71.13</td>\n",
       "      <td>2.61</td>\n",
       "    </tr>\n",
       "    <tr>\n",
       "      <th>15</th>\n",
       "      <td>71.89</td>\n",
       "      <td>2.54</td>\n",
       "    </tr>\n",
       "    <tr>\n",
       "      <th>16</th>\n",
       "      <td>73.05</td>\n",
       "      <td>2.45</td>\n",
       "    </tr>\n",
       "    <tr>\n",
       "      <th>17</th>\n",
       "      <td>74.21</td>\n",
       "      <td>2.39</td>\n",
       "    </tr>\n",
       "  </tbody>\n",
       "</table>\n",
       "</div>"
      ],
      "text/plain": [
       "        T  rate\n",
       "0   46.53  2.49\n",
       "1   48.14  2.56\n",
       "2   50.15  2.63\n",
       "3   51.36  2.69\n",
       "4   52.57  2.74\n",
       "5   54.18  2.80\n",
       "6   56.19  2.88\n",
       "7   58.58  2.92\n",
       "8   61.37  2.96\n",
       "9   63.34  2.95\n",
       "10  65.31  2.91\n",
       "11  66.47  2.85\n",
       "12  68.03  2.78\n",
       "13  69.97  2.69\n",
       "14  71.13  2.61\n",
       "15  71.89  2.54\n",
       "16  73.05  2.45\n",
       "17  74.21  2.39"
      ]
     },
     "execution_count": 9,
     "metadata": {},
     "output_type": "execute_result"
    }
   ],
   "source": [
    "#load the data\n",
    "import pandas as pd\n",
    "import numpy as np\n",
    "data_train = pd.read_csv('T-R-train.csv')\n",
    "data_train"
   ]
  },
  {
   "cell_type": "code",
   "execution_count": 20,
   "metadata": {},
   "outputs": [
    {
     "name": "stdout",
     "output_type": "stream",
     "text": [
      "(18,)\n"
     ]
    }
   ],
   "source": [
    "#define X_train and y_train\n",
    "X_train = data_train.loc[:,'T']\n",
    "print(X_train.shape)\n",
    "y_train = data_train.loc[:,'rate']"
   ]
  },
  {
   "cell_type": "code",
   "execution_count": 10,
   "metadata": {},
   "outputs": [
    {
     "data": {
      "image/png": "[encoded data removed]",
      "text/plain": [
       "<Figure size 360x360 with 1 Axes>"
      ]
     },
     "metadata": {
      "needs_background": "light"
     },
     "output_type": "display_data"
    }
   ],
   "source": [
    "#visualize the data\n",
    "%matplotlib inline\n",
    "from matplotlib import pyplot as plt\n",
    "fig1 = plt.figure(figsize = (5,5))\n",
    "plt.scatter(X_train,y_train)\n",
    "plt.title('raw data')\n",
    "plt.xlabel('temperature')\n",
    "plt.ylabel('rate')\n",
    "plt.show()"
   ]
  },
  {
   "cell_type": "code",
   "execution_count": 23,
   "metadata": {},
   "outputs": [
    {
     "name": "stdout",
     "output_type": "stream",
     "text": [
      "(18, 1)\n"
     ]
    }
   ],
   "source": [
    "X_train = np.array(X_train).reshape(-1,1)"
   ]
  },
  {
   "cell_type": "code",
   "execution_count": 12,
   "metadata": {},
   "outputs": [
    {
     "data": {
      "text/plain": [
       "LinearRegression()"
      ]
     },
     "execution_count": 12,
     "metadata": {},
     "output_type": "execute_result"
    }
   ],
   "source": [
    "#linear regression model prediction\n",
    "from sklearn.linear_model import LinearRegression\n",
    "lr1 = LinearRegression()\n",
    "lr1.fit(X_train,y_train)"
   ]
  },
  {
   "cell_type": "code",
   "execution_count": 13,
   "metadata": {},
   "outputs": [],
   "source": [
    "#load the test data\n",
    "data_test = pd.read_csv('T-R-test.csv')\n",
    "X_test = data_test.loc[:,'T']\n",
    "y_test = data_test.loc[:,'rate']"
   ]
  },
  {
   "cell_type": "code",
   "execution_count": 17,
   "metadata": {},
   "outputs": [],
   "source": [
    "X_test = np.array(X_test).reshape(-1,1)"
   ]
  },
  {
   "cell_type": "code",
   "execution_count": 18,
   "metadata": {},
   "outputs": [
    {
     "name": "stdout",
     "output_type": "stream",
     "text": [
      "training r2: 0.016665703886981964\n",
      "test r2： -0.7583363437351314\n"
     ]
    }
   ],
   "source": [
    "#make prediction on the training and testing data\n",
    "y_train_predict = lr1.predict(X_train)\n",
    "y_test_predict = lr1.predict(X_test)\n",
    "from sklearn.metrics import r2_score\n",
    "r2_train = r2_score(y_train,y_train_predict)\n",
    "r2_test = r2_score(y_test,y_test_predict)\n",
    "print('training r2:',r2_train)\n",
    "print('test r2：',r2_test)"
   ]
  },
  {
   "cell_type": "code",
   "execution_count": 27,
   "metadata": {},
   "outputs": [],
   "source": [
    "#generate new data\n",
    "X_range = np.linspace(40,90,300).reshape(-1,1)\n",
    "y_range_predict = lr1.predict(X_range)"
   ]
  },
  {
   "cell_type": "code",
   "execution_count": 28,
   "metadata": {},
   "outputs": [
    {
     "data": {
      "image/png": "[encoded data removed]",
      "text/plain": [
       "<Figure size 360x360 with 1 Axes>"
      ]
     },
     "metadata": {
      "needs_background": "light"
     },
     "output_type": "display_data"
    }
   ],
   "source": [
    "fig2 = plt.figure(figsize = (5,5))\n",
    "plt.plot(X_range,y_range_predict)\n",
    "plt.title('prediction data')\n",
    "plt.xlabel('temperature')\n",
    "plt.ylabel('rate')\n",
    "plt.show()"
   ]
  },
  {
   "cell_type": "code",
   "execution_count": 42,
   "metadata": {},
   "outputs": [
    {
     "name": "stdout",
     "output_type": "stream",
     "text": [
      "[[1.00000000e+00 4.65300000e+01 2.16504090e+03 1.00739353e+05\n",
      "  4.68740210e+06 2.18104820e+08]\n",
      " [1.00000000e+00 4.81400000e+01 2.31745960e+03 1.11562505e+05\n",
      "  5.37061900e+06 2.58541599e+08]\n",
      " [1.00000000e+00 5.01500000e+01 2.51502250e+03 1.26128378e+05\n",
      "  6.32533818e+06 3.17215710e+08]\n",
      " [1.00000000e+00 5.13600000e+01 2.63784960e+03 1.35479955e+05\n",
      "  6.95825051e+06 3.57375746e+08]\n",
      " [1.00000000e+00 5.25700000e+01 2.76360490e+03 1.45282710e+05\n",
      "  7.63751204e+06 4.01504008e+08]\n",
      " [1.00000000e+00 5.41800000e+01 2.93547240e+03 1.59043895e+05\n",
      "  8.61699821e+06 4.66868963e+08]\n",
      " [1.00000000e+00 5.61900000e+01 3.15731610e+03 1.77409592e+05\n",
      "  9.96864496e+06 5.60138160e+08]\n",
      " [1.00000000e+00 5.85800000e+01 3.43161640e+03 2.01024089e+05\n",
      "  1.17759911e+07 6.89837560e+08]\n",
      " [1.00000000e+00 6.13700000e+01 3.76627690e+03 2.31136413e+05\n",
      "  1.41848417e+07 8.70523734e+08]\n",
      " [1.00000000e+00 6.33400000e+01 4.01195560e+03 2.54117268e+05\n",
      "  1.60957877e+07 1.01950720e+09]\n",
      " [1.00000000e+00 6.53100000e+01 4.26539610e+03 2.78573019e+05\n",
      "  1.81936039e+07 1.18822427e+09]\n",
      " [1.00000000e+00 6.64700000e+01 4.41826090e+03 2.93681802e+05\n",
      "  1.95210294e+07 1.29756282e+09]\n",
      " [1.00000000e+00 6.80300000e+01 4.62808090e+03 3.14848344e+05\n",
      "  2.14191328e+07 1.45714361e+09]\n",
      " [1.00000000e+00 6.99700000e+01 4.89580090e+03 3.42559189e+05\n",
      "  2.39688665e+07 1.67710159e+09]\n",
      " [1.00000000e+00 7.11300000e+01 5.05947690e+03 3.59880592e+05\n",
      "  2.55983065e+07 1.82080754e+09]\n",
      " [1.00000000e+00 7.18900000e+01 5.16817210e+03 3.71539892e+05\n",
      "  2.67100029e+07 1.92018211e+09]\n",
      " [1.00000000e+00 7.30500000e+01 5.33630250e+03 3.89816898e+05\n",
      "  2.84761244e+07 2.08018089e+09]\n",
      " [1.00000000e+00 7.42100000e+01 5.50712410e+03 4.08683679e+05\n",
      "  3.03284159e+07 2.25067174e+09]]\n"
     ]
    }
   ],
   "source": [
    "#多项式\n",
    "#generate new feature\n",
    "from sklearn.preprocessing import PolynomialFeatures\n",
    "poly2 = PolynomialFeatures(degree = 2)\n",
    "X_2_train = poly2.fit_transform(X_train)\n",
    "X_2_test = poly2.transform(X_test)\n",
    "poly5 = PolynomialFeatures(degree = 5)\n",
    "X_5_train = poly5.fit_transform(X_train)\n",
    "X_5_test = poly5.transform(X_test)\n",
    "print(X_5_train)"
   ]
  },
  {
   "cell_type": "code",
   "execution_count": 43,
   "metadata": {},
   "outputs": [
    {
     "name": "stdout",
     "output_type": "stream",
     "text": [
      "training r2_2: 0.9700515400689422\n",
      "test r2_2： 0.9963954556468684\n",
      "training r2_5: 0.9978527267187439\n",
      "test r2_5: 0.5437837627380018\n"
     ]
    }
   ],
   "source": [
    "lr2 = LinearRegression()\n",
    "lr2.fit(X_2_train,y_train)\n",
    "\n",
    "y_2_train_predict = lr2.predict(X_2_train)\n",
    "y_2_test_predict = lr2.predict(X_2_test)\n",
    "r2_2_train = r2_score(y_train,y_2_train_predict)\n",
    "r2_2_test = r2_score(y_test,y_2_test_predict)\n",
    "\n",
    "lr5 = LinearRegression()\n",
    "lr5.fit(X_5_train,y_train)\n",
    "\n",
    "y_5_train_predict = lr5.predict(X_5_train)\n",
    "y_5_test_predict = lr5.predict(X_5_test)\n",
    "r2_5_train = r2_score(y_train, y_5_train_predict)\n",
    "r2_5_test = r2_score(y_test,y_5_test_predict)\n",
    "print('training r2_2:',r2_2_train)\n",
    "print('test r2_2：',r2_2_test)\n",
    "print('training r2_5:',r2_5_train)\n",
    "print('test r2_5:',r2_5_test)"
   ]
  },
  {
   "cell_type": "code",
   "execution_count": 45,
   "metadata": {},
   "outputs": [],
   "source": [
    "X_2_range = np.linspace(40,90,300).reshape(-1,1)\n",
    "X_2_range = poly2.transform(X_2_range)\n",
    "y_2_range_predict = lr2.predict(X_2_range)\n",
    "\n",
    "X_5_range = np.linspace(40,90,300).reshape(-1,1)\n",
    "X_5_range = poly5.transform(X_5_range)\n",
    "y_5_range_predict = lr5.predict(X_5_range)"
   ]
  },
  {
   "cell_type": "code",
   "execution_count": 40,
   "metadata": {},
   "outputs": [
    {
     "data": {
      "image/png": "[encoded data removed]",
      "text/plain": [
       "<Figure size 360x360 with 1 Axes>"
      ]
     },
     "metadata": {
      "needs_background": "light"
     },
     "output_type": "display_data"
    }
   ],
   "source": [
    "fig3 = plt.figure(figsize = (5,5))\n",
    "plt.plot(X_range,y_2_range_predict)\n",
    "plt.scatter(X_train,y_train)\n",
    "plt.scatter(X_test,y_test)\n",
    "\n",
    "plt.title('polynomial prediction result (2)')\n",
    "plt.xlabel('temperature')\n",
    "plt.ylabel('rate')\n",
    "plt.show()"
   ]
  },
  {
   "cell_type": "code",
   "execution_count": 46,
   "metadata": {},
   "outputs": [
    {
     "data": {
      "image/png": "[encoded data removed]",
      "text/plain": [
       "<Figure size 360x360 with 1 Axes>"
      ]
     },
     "metadata": {
      "needs_background": "light"
     },
     "output_type": "display_data"
    }
   ],
   "source": [
    "fig4 = plt.figure(figsize=(5,5))\n",
    "plt.plot(X_range,y_5_range_predict)\n",
    "plt.scatter(X_train,y_train)\n",
    "plt.scatter(X_test,y_test)\n",
    "\n",
    "plt.title('polynomial prediction result (5)')\n",
    "plt.xlabel('temperature')\n",
    "plt.ylabel('rate')\n",
    "plt.show()"
   ]
  },
  {
   "cell_type": "markdown",
   "metadata": {},
   "source": [
    "## 酶活性预测实战summary:\n",
    "- 通过建立二阶多项式回归模型，对酶活性实现了一个较好的预测，无论针对训练或测试数据都得到一个高的r2分数\n",
    "- 通过建立线性回归，五阶多项式回归模型，发现存在过拟合或欠拟合情况。过拟合情况下，对于训练数据r2分数高(预测准确)，但对于预测数据r2分数低(预测不准确)\n",
    "- 无论时通过r2分数，或是可视化模型结果，都可以发现二阶多项式回归模型效果最好"
   ]
  }
 ],
 "metadata": {
  "kernelspec": {
   "display_name": "Python 3",
   "language": "python",
   "name": "python3"
  },
  "language_info": {
   "codemirror_mode": {
    "name": "ipython",
    "version": 3
   },
   "file_extension": ".py",
   "mimetype": "text/x-python",
   "name": "python",
   "nbconvert_exporter": "python",
   "pygments_lexer": "ipython3",
   "version": "3.7.9"
  }
 },
 "nbformat": 4,
 "nbformat_minor": 4
}
